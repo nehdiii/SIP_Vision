{
 "cells": [
  {
   "cell_type": "code",
   "execution_count": 1,
   "metadata": {},
   "outputs": [],
   "source": [
    "from data.datatsets import ImageDataset"
   ]
  },
  {
   "cell_type": "code",
   "execution_count": 3,
   "metadata": {},
   "outputs": [
    {
     "ename": "TypeError",
     "evalue": "cannot unpack non-iterable NoneType object",
     "output_type": "error",
     "traceback": [
      "\u001b[0;31m---------------------------------------------------------------------------\u001b[0m",
      "\u001b[0;31mTypeError\u001b[0m                                 Traceback (most recent call last)",
      "\u001b[1;32m/home/nehdilinux/Smart_IT/NewIdeas/SIP_Vision/SIPVision/test.ipynb Cell 2\u001b[0m line \u001b[0;36m1\n\u001b[0;32m----> <a href='vscode-notebook-cell:/home/nehdilinux/Smart_IT/NewIdeas/SIP_Vision/SIPVision/test.ipynb#W1sZmlsZQ%3D%3D?line=0'>1</a>\u001b[0m dataset \u001b[39m=\u001b[39m ImageDataset(\u001b[39m\"\u001b[39;49m\u001b[39m/home/nehdilinux/Smart_IT/DataCenter/RAF-DB/DATASET.tar\u001b[39;49m\u001b[39m\"\u001b[39;49m,\u001b[39mNone\u001b[39;49;00m,\u001b[39m'\u001b[39;49m\u001b[39mtrain\u001b[39;49m\u001b[39m'\u001b[39;49m,class_map\u001b[39m=\u001b[39;49m\u001b[39m\"\u001b[39;49m\u001b[39m/home/nehdilinux/Smart_IT/DataCenter/RAF-DB/wnids.txt\u001b[39;49m\u001b[39m\"\u001b[39;49m)\n",
      "File \u001b[0;32m~/Smart_IT/NewIdeas/SIP_Vision/SIPVision/data/datatsets.py:39\u001b[0m, in \u001b[0;36mImageDataset.__init__\u001b[0;34m(self, root, reader, split, class_map, load_bytes, input_img_mode, transform, target_transform)\u001b[0m\n\u001b[1;32m     25\u001b[0m \u001b[39mdef\u001b[39;00m \u001b[39m__init__\u001b[39m(\n\u001b[1;32m     26\u001b[0m         \u001b[39mself\u001b[39m,\n\u001b[1;32m     27\u001b[0m         root : \u001b[39mstr\u001b[39m,\n\u001b[0;32m   (...)\u001b[0m\n\u001b[1;32m     36\u001b[0m     \n\u001b[1;32m     37\u001b[0m     \u001b[39m# if reader is None or a string \u001b[39;00m\n\u001b[1;32m     38\u001b[0m     \u001b[39mif\u001b[39;00m reader \u001b[39mis\u001b[39;00m \u001b[39mNone\u001b[39;00m \u001b[39mor\u001b[39;00m \u001b[39misinstance\u001b[39m(reader,\u001b[39mstr\u001b[39m):\n\u001b[0;32m---> 39\u001b[0m         reader \u001b[39m=\u001b[39m create_reader(\n\u001b[1;32m     40\u001b[0m             reader \u001b[39mor\u001b[39;49;00m \u001b[39m'\u001b[39;49m\u001b[39m'\u001b[39;49m,\n\u001b[1;32m     41\u001b[0m             root \u001b[39m=\u001b[39;49m root,\n\u001b[1;32m     42\u001b[0m             split\u001b[39m=\u001b[39;49msplit,\n\u001b[1;32m     43\u001b[0m             class_map \u001b[39m=\u001b[39;49m class_map\n\u001b[1;32m     44\u001b[0m         )\n",
      "File \u001b[0;32m~/Smart_IT/NewIdeas/SIP_Vision/SIPVision/data/readers/reader_factory.py:39\u001b[0m, in \u001b[0;36mcreate_reader\u001b[0;34m(name, root, split, **kwargs)\u001b[0m\n\u001b[1;32m     35\u001b[0m \u001b[39m# TODO: Improving the comprssion files reading like .zip / .tar /\u001b[39;00m\n\u001b[1;32m     36\u001b[0m \u001b[39m# TODO: Creating Dataset reader that adapts to all kinds of data \u001b[39;00m\n\u001b[1;32m     37\u001b[0m \u001b[39mif\u001b[39;00m os\u001b[39m.\u001b[39mpath\u001b[39m.\u001b[39misfile(root) \u001b[39mand\u001b[39;00m os\u001b[39m.\u001b[39mpath\u001b[39m.\u001b[39msplitext(root)[\u001b[39m1\u001b[39m] \u001b[39m==\u001b[39m \u001b[39m\"\u001b[39m\u001b[39m.tar\u001b[39m\u001b[39m\"\u001b[39m : \n\u001b[0;32m---> 39\u001b[0m     reader \u001b[39m=\u001b[39m ReaderImageInTar(root, \u001b[39m*\u001b[39;49m\u001b[39m*\u001b[39;49mkwargs)\n\u001b[1;32m     40\u001b[0m \u001b[39melse\u001b[39;00m : \n\u001b[1;32m     41\u001b[0m     \u001b[39mpass\u001b[39;00m\n",
      "File \u001b[0;32m~/Smart_IT/NewIdeas/SIP_Vision/SIPVision/data/readers/reader_image_in_tar.py:88\u001b[0m, in \u001b[0;36mReaderImageInTar.__init__\u001b[0;34m(self, root, class_map, cache_tarfiles, cache_tarinfo)\u001b[0m\n\u001b[1;32m     85\u001b[0m \u001b[39massert\u001b[39;00m os\u001b[39m.\u001b[39mpath\u001b[39m.\u001b[39misfile(root)\n\u001b[1;32m     86\u001b[0m \u001b[39mself\u001b[39m\u001b[39m.\u001b[39mroot \u001b[39m=\u001b[39m root\n\u001b[0;32m---> 88\u001b[0m \u001b[39mself\u001b[39m\u001b[39m.\u001b[39msamples , \u001b[39mself\u001b[39m\u001b[39m.\u001b[39mtargets,\u001b[39mself\u001b[39m\u001b[39m.\u001b[39mclass_name_to_idx,tarfiles \u001b[39m=\u001b[39m extract_tarinfos(\n\u001b[1;32m     89\u001b[0m     \u001b[39mself\u001b[39m\u001b[39m.\u001b[39mroot,\n\u001b[1;32m     90\u001b[0m     class_name_to_idx\u001b[39m=\u001b[39mclass_name_to_idx,\n\u001b[1;32m     91\u001b[0m     cache_tarinfo\u001b[39m=\u001b[39mcache_tarinfo\n\u001b[1;32m     92\u001b[0m )\n",
      "\u001b[0;31mTypeError\u001b[0m: cannot unpack non-iterable NoneType object"
     ]
    }
   ],
   "source": [
    "dataset = ImageDataset(\"/home/nehdilinux/Smart_IT/DataCenter/RAF-DB/DATASET.tar\",None,'train',class_map=\"/home/nehdilinux/Smart_IT/DataCenter/RAF-DB/wnids.txt\")"
   ]
  },
  {
   "cell_type": "code",
   "execution_count": null,
   "metadata": {},
   "outputs": [],
   "source": []
  }
 ],
 "metadata": {
  "kernelspec": {
   "display_name": "DS-CVlabs",
   "language": "python",
   "name": "python3"
  },
  "language_info": {
   "codemirror_mode": {
    "name": "ipython",
    "version": 3
   },
   "file_extension": ".py",
   "mimetype": "text/x-python",
   "name": "python",
   "nbconvert_exporter": "python",
   "pygments_lexer": "ipython3",
   "version": "3.9.13"
  }
 },
 "nbformat": 4,
 "nbformat_minor": 2
}
